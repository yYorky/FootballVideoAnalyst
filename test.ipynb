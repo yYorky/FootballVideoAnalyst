{
 "cells": [
  {
   "cell_type": "markdown",
   "id": "09b73680",
   "metadata": {},
   "source": [
    "# Football Video Analyst - Test Notebook\n",
    "\n",
    "This notebook demonstrates how to use the Football Video Analyst modules to analyze football highlight videos using Gemini 2.5 Pro."
   ]
  },
  {
   "cell_type": "markdown",
   "id": "2d90d84c",
   "metadata": {},
   "source": [
    "## Setup API Key\n",
    "\n",
    "First, set up your Google API key. You can either get it from environment variables or set it directly."
   ]
  },
  {
   "cell_type": "code",
   "execution_count": null,
   "id": "4a6718b9",
   "metadata": {},
   "outputs": [],
   "source": [
    "# For Google Colab\n",
    "# from google.colab import userdata\n",
    "# GOOGLE_API_KEY = userdata.get('GOOGLE_AI_STUDIO')\n",
    "\n",
    "# For local environment\n",
    "import os\n",
    "from dotenv import load_dotenv\n",
    "\n",
    "load_dotenv()\n",
    "GOOGLE_API_KEY = os.getenv('GOOGLE_API_KEY')\n",
    "\n",
    "# Verify API key exists\n",
    "if GOOGLE_API_KEY is None:\n",
    "    print(\"⚠️ API key not found. Please set GOOGLE_API_KEY in .env file.\")\n",
    "else:\n",
    "    print(\"✅ API key loaded successfully!\")"
   ]
  },
  {
   "cell_type": "markdown",
   "id": "9071157e",
   "metadata": {},
   "source": [
    "## Import Required Libraries\n",
    "\n",
    "Import the Google Generative AI library and our custom modules."
   ]
  },
  {
   "cell_type": "code",
   "execution_count": null,
   "id": "2c401905",
   "metadata": {},
   "outputs": [],
   "source": [
    "import os\n",
    "import time\n",
    "import json\n",
    "from google import genai\n",
    "from google.genai import types\n",
    "\n",
    "# Import our custom modules\n",
    "import sys\n",
    "sys.path.append('.')\n",
    "from modules.video_utils import extract_youtube_id, embed_youtube_video\n",
    "from modules.analysis import analyze_football_video, get_rating_class"
   ]
  },
  {
   "cell_type": "markdown",
   "id": "04c35269",
   "metadata": {},
   "source": [
    "## Initialize Gemini Client\n",
    "\n",
    "Create a client instance with your API key."
   ]
  },
  {
   "cell_type": "code",
   "execution_count": null,
   "id": "107fbca3",
   "metadata": {},
   "outputs": [],
   "source": [
    "# Initialize the Gemini client\n",
    "client = genai.Client(api_key=GOOGLE_API_KEY)\n",
    "\n",
    "# Set the model name\n",
    "MODEL_NAME = \"gemini-2.5-pro-exp-03-25\""
   ]
  },
  {
   "cell_type": "markdown",
   "id": "ac9121da",
   "metadata": {},
   "source": [
    "## Analyze a Football Video\n",
    "\n",
    "Enter a YouTube URL of a football highlights video to analyze."
   ]
  },
  {
   "cell_type": "code",
   "execution_count": null,
   "id": "4ce865d5",
   "metadata": {},
   "outputs": [],
   "source": [
    "# Example football highlight video URL\n",
    "# Manchester City vs Real Madrid UCL 2023 semi-final\n",
    "youtube_url = \"https://www.youtube.com/watch?v=LMhe2egLsrQ\"\n",
    "\n",
    "# Extract video ID for embedding\n",
    "video_id = extract_youtube_id(youtube_url)\n",
    "print(f\"Video ID: {video_id}\")\n",
    "\n",
    "# Display embedded video\n",
    "from IPython.display import HTML\n",
    "HTML(embed_youtube_video(youtube_url))"
   ]
  },
  {
   "cell_type": "markdown",
   "id": "4953bd3f",
   "metadata": {},
   "source": [
    "## Run Analysis\n",
    "\n",
    "Analyze the football video using Gemini 2.5 Pro."
   ]
  },
  {
   "cell_type": "code",
   "execution_count": null,
   "id": "77d2880b",
   "metadata": {},
   "outputs": [],
   "source": [
    "# Measure execution time\n",
    "start_time = time.time()\n",
    "\n",
    "# Run the analysis\n",
    "print(\"Analyzing football video with Gemini 2.5 Pro...\")\n",
    "analysis_result = analyze_football_video(youtube_url, client, MODEL_NAME)\n",
    "\n",
    "# Calculate elapsed time\n",
    "elapsed_time = time.time() - start_time\n",
    "print(f\"Analysis completed in {elapsed_time:.2f} seconds\")\n",
    "\n",
    "# Check if we got an error\n",
    "if \"error\" in analysis_result:\n",
    "    print(f\"Error: {analysis_result['error']}\")\n",
    "    if \"raw_response\" in analysis_result:\n",
    "        print(\"Raw response:\")\n",
    "        print(analysis_result[\"raw_response\"])"
   ]
  },
  {
   "cell_type": "markdown",
   "id": "5f13d4a8",
   "metadata": {},
   "source": [
    "## Display Match Information\n",
    "\n",
    "Show the match details and score."
   ]
  },
  {
   "cell_type": "code",
   "execution_count": null,
   "id": "9c2b1cc4",
   "metadata": {},
   "outputs": [],
   "source": [
    "# Extract match information\n",
    "if \"error\" not in analysis_result:\n",
    "    competition = analysis_result.get(\"competition\", \"Unknown Competition\")\n",
    "    match_date = analysis_result.get(\"match_date\", \"\")\n",
    "    match_stage = analysis_result.get(\"match_stage\", \"\")\n",
    "    team1 = analysis_result.get(\"team1\", {})\n",
    "    team2 = analysis_result.get(\"team2\", {})\n",
    "    \n",
    "    team1_name = team1.get(\"name\", \"Team 1\")\n",
    "    team2_name = team2.get(\"name\", \"Team 2\")\n",
    "    team1_score = team1.get(\"score\", \"?\")\n",
    "    team2_score = team2.get(\"score\", \"?\")\n",
    "    \n",
    "    print(f\"{competition} {match_stage} {match_date}\")\n",
    "    print(f\"{team1_name} {team1_score} - {team2_score} {team2_name}\")\n",
    "    \n",
    "    print(\"\\nMatch Summary:\")\n",
    "    print(analysis_result.get(\"match_summary\", \"No summary available\"))"
   ]
  },
  {
   "cell_type": "markdown",
   "id": "9a0ef53a",
   "metadata": {},
   "source": [
    "## Display Player Ratings and Analysis\n",
    "\n",
    "Show the player ratings and performance analysis for both teams."
   ]
  },
  {
   "cell_type": "code",
   "execution_count": null,
   "id": "02d2f064",
   "metadata": {},
   "outputs": [],
   "source": [
    "# Function to display player ratings and analysis\n",
    "def display_team_analysis(team_data):\n",
    "    team_name = team_data.get(\"name\", \"Unknown Team\")\n",
    "    print(f\"\\n{team_name} Player Ratings:\")\n",
    "    print(\"-\" * 50)\n",
    "    \n",
    "    for player in team_data.get(\"players\", []):\n",
    "        name = player.get(\"name\", \"Unknown Player\")\n",
    "        rating = player.get(\"rating\", \"?\")\n",
    "        analysis = player.get(\"analysis\", \"No analysis available\")\n",
    "        \n",
    "        print(f\"{name}: {rating}/10\")\n",
    "        print(f\"Analysis: {analysis}\")\n",
    "        \n",
    "        # Display key moments if available\n",
    "        key_moments = player.get(\"key_moments\", [])\n",
    "        if key_moments:\n",
    "            print(\"Key moments:\")\n",
    "            for moment in key_moments:\n",
    "                time = moment.get(\"time\", \"?\")\n",
    "                desc = moment.get(\"description\", \"\")\n",
    "                print(f\"  • {time}: {desc}\")\n",
    "        print(\"-\" * 50)\n",
    "\n",
    "# Display analysis for both teams\n",
    "if \"error\" not in analysis_result:\n",
    "    # Team 1 analysis\n",
    "    display_team_analysis(team1)\n",
    "    \n",
    "    # Team 2 analysis\n",
    "    display_team_analysis(team2)"
   ]
  },
  {
   "cell_type": "markdown",
   "id": "ba0a9d0a",
   "metadata": {},
   "source": [
    "## Save Analysis Results\n",
    "\n",
    "Save the analysis results to a JSON file for future reference."
   ]
  },
  {
   "cell_type": "code",
   "execution_count": null,
   "id": "971ca2e3",
   "metadata": {
    "vscode": {
     "languageId": "plaintext"
    }
   },
   "outputs": [],
   "source": [
    "from google.genai import types\n",
    "\n",
    "youtube_url = \"https://www.youtube.com/watch?v=LMhe2egLsrQ\"\n",
    "\n",
    "prompt = \"\"\"Analyze the following YouTube video content. Provide a detailed breakdown:\n",
    "\n",
    "1. **Main Thesis/Claim:** What is the central point the creator is making?\n",
    "2. **Key Topics:** List the main subjects discussed, referencing specific sections or timestamps if possible.\n",
    "3. **Call to Action:** Identify any explicit requests made to the viewers.\n",
    "4. **Summary:** Provide a concise summary of the video content.\n",
    "\n",
    "Use the provided title, chapter timestamps/descriptions, and description text if available.\n",
    "\"\"\"\n",
    "\n",
    "# Analyze the video\n",
    "response = client.models.generate_content(\n",
    "    model=\"gemini-2.5-pro-exp-03-25\",\n",
    "    contents=types.Content(\n",
    "        parts=[\n",
    "            types.Part(text=prompt),\n",
    "            types.Part(\n",
    "                file_data=types.FileData(file_uri=youtube_url)\n",
    "            )\n",
    "        ]\n",
    "    )\n",
    ")\n",
    "\n",
    "print(response.text)\n"
   ]
  }
 ],
 "metadata": {
  "language_info": {
   "name": "python"
  }
 },
 "nbformat": 4,
 "nbformat_minor": 5
}
